{
 "cells": [
  {
   "cell_type": "markdown",
   "metadata": {},
   "source": [
    "<h1><center>Jupyter Dashboard with Voila</center></h1>\n",
    "\n",
    "<center><i>Dashboard to visualize open data, based on tutorial by <a href=\"https://github.com/voila-dashboards/voila-heroku\">Martin Renou</a> with <a href=\"https://github.com/voila-dashboards/voila\">Voila</a>, <a href=\"https://pandas.pydata.org/\">Pandas</a> and <a href=\"https://seaborn.pydata.org/\">Seaborn</a>.</i></center>\n",
    "\n",
    "<center><i>Source Code on <a href=\"https://github.com/walteryu/voila-test\">Github</a></i></center>\n",
    "\n",
    "## Introduction\n",
    "\n",
    "This notebook is a dashboard publication tool via Jupyter-Voila. It is developed based on this [tutorial](https://github.com/voila-dashboards/voila-heroku) by Martin Renou.\n",
    "\n",
    "This notebook is organized into modules to complete the following tasks:\n",
    "\n",
    "1. Data Analysis\n",
    "2. Data Visualization\n",
    "3. Dashboard Publication\n",
    "\n",
    "## VTA Open Data\n",
    "\n",
    "This dashboard visualizes cumulative monthly ridership from the VTA Open Data [Portal](http://data.vta.org/). The Portal is described as \"central location for access to VTA's open data, including transit, active transportation, congestion management and more.\"\n",
    "\n",
    "The [monthly ridership data](http://data.vta.org/datasets/ridership-by-route-cumulative-monthly) includes fields for train route, line type, ridership and cumulative monthly period. It consists of data from 2013 to 2018.\n"
   ]
  },
  {
   "cell_type": "code",
   "execution_count": 110,
   "metadata": {},
   "outputs": [],
   "source": [
    "# 01 - import modules\n",
    "\n",
    "# pandas modules for working with DataFrames\n",
    "import pandas as pd\n",
    "\n",
    "# modules for data manipulation\n",
    "# import numpy as np\n",
    "\n",
    "# modules for statistical models\n",
    "import scipy\n",
    "from scipy import stats\n",
    "import statsmodels.api as sm\n",
    "\n",
    "# numpy modules for data visualization\n",
    "# import matplotlib.pyplot as plt\n",
    "\n",
    "# adjust plot settings to output correctly\n",
    "# %matplotlib inline\n",
    "\n",
    "# seaborn module for plots; built on Matplotlib package:\n",
    "# https://seaborn.pydata.org/\n",
    "import seaborn as sns; sns.set(color_codes=True)\n",
    "\n",
    "# set numeric output; turn off scientific notation\n",
    "pd.set_option('display.float_format', lambda x: '%.2f' % x)\n",
    "\n",
    "# adjust default settings\n",
    "pd.options.display.max_columns = 60\n",
    "pd.options.display.max_rows = 35\n",
    "import warnings\n",
    "warnings.filterwarnings(\"ignore\")\n",
    "\n",
    "# import modules for voila\n",
    "# source: https://github.com/voila-dashboards/voila-heroku\n",
    "from bqplot import pyplot as plt\n",
    "import ipywidgets as widgets\n",
    "import numpy as np\n"
   ]
  },
  {
   "cell_type": "code",
   "execution_count": 111,
   "metadata": {},
   "outputs": [],
   "source": [
    "# generate some fake data\n",
    "def seed_data(n):\n",
    "    # n = 5000\n",
    "    x = np.linspace(0.0, 10.0, n)\n",
    "    np.random.seed(0)\n",
    "    y = np.cumsum(np.random.randn(n)*10).astype(int)\n",
    "    return(x,y)\n",
    "\n",
    "x, y = seed_data(2000)\n",
    "\n",
    "# create histogram\n",
    "fig_hist = plt.figure(title='Histogram')\n",
    "hist = plt.hist(y, bins=25)\n",
    "hist.bins = 10;\n",
    "\n",
    "# create histogram slider\n",
    "slider = widgets.IntSlider(\n",
    "    description='Bins number',\n",
    "    min=1,\n",
    "    max=100,\n",
    "    v_model=30\n",
    ")\n"
   ]
  },
  {
   "cell_type": "code",
   "execution_count": 112,
   "metadata": {
    "scrolled": true
   },
   "outputs": [
    {
     "data": {
      "application/vnd.jupyter.widget-view+json": {
       "model_id": "e70702e757ee4da6bff2b3ac50dd0cd6",
       "version_major": 2,
       "version_minor": 0
      },
      "text/plain": [
       "GridspecLayout(children=(Figure(axes=[Axis(scale=LinearScale()), Axis(orientation='vertical', scale=LinearScal…"
      ]
     },
     "metadata": {},
     "output_type": "display_data"
    }
   ],
   "source": [
    "widgets.link((hist, 'bins'), (slider, 'value'))\n",
    "\n",
    "# create line plot\n",
    "fig_lines = plt.figure( title='Line Chart')\n",
    "lines = plt.plot(x, y)\n",
    "\n",
    "# plot settings\n",
    "fig_lines.layout.width = 'auto'\n",
    "fig_lines.layout.height = 'auto'\n",
    "fig_hist.layout.width = 'auto'\n",
    "fig_hist.layout.height = 'auto'\n",
    "\n",
    "# page layout\n",
    "grid_layout = widgets.GridspecLayout(5, 3)\n",
    "\n",
    "grid_layout[:2, :] = fig_lines\n",
    "grid_layout[2:4, :] = fig_hist\n",
    "grid_layout[4, 1] = slider\n",
    "\n",
    "# grid_layout[:2, :] = fig_lines\n",
    "# grid_layout[2:4, :] = fig_hist\n",
    "# grid_layout[4, 1] = slider\n",
    "\n",
    "grid_layout.layout.height = '1000px'\n",
    "grid_layout\n"
   ]
  },
  {
   "cell_type": "code",
   "execution_count": 113,
   "metadata": {},
   "outputs": [],
   "source": [
    "selector = plt.brush_int_selector()\n",
    "def update_range(*ignore):\n",
    "    if selector.selected is not None and len(selector.selected) == 2:\n",
    "        xmin, xmax = selector.selected\n",
    "        mask = (x > xmin) & (x < xmax)\n",
    "        hist.sample = y[mask]\n",
    "selector.observe(update_range, 'selected')        "
   ]
  }
 ],
 "metadata": {
  "kernelspec": {
   "display_name": "Python 3",
   "language": "python",
   "name": "python3"
  },
  "language_info": {
   "codemirror_mode": {
    "name": "ipython",
    "version": 3
   },
   "file_extension": ".py",
   "mimetype": "text/x-python",
   "name": "python",
   "nbconvert_exporter": "python",
   "pygments_lexer": "ipython3",
   "version": "3.6.9"
  },
  "widgets": {
   "application/vnd.jupyter.widget-state+json": {
    "state": {},
    "version_major": 2,
    "version_minor": 0
   }
  }
 },
 "nbformat": 4,
 "nbformat_minor": 4
}
