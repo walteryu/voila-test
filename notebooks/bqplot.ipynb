{
 "cells": [
  {
   "cell_type": "markdown",
   "metadata": {},
   "source": [
    "<h1><center>Jupyter Dashboard with Voila</center></h1>\n",
    "\n",
    "<center><i>Dashboard to visualize open data, based on tutorial by <a href=\"https://github.com/voila-dashboards/voila-heroku\">Martin Renou</a> with <a href=\"https://github.com/voila-dashboards/voila\">Voila</a>, <a href=\"https://pandas.pydata.org/\">Pandas</a> and <a href=\"https://seaborn.pydata.org/\">Seaborn</a>.</i></center>\n",
    "\n",
    "<center><i>Source Code on <a href=\"https://github.com/walteryu/voila-test\">Github</a></i></center>\n"
   ]
  },
  {
   "cell_type": "markdown",
   "metadata": {},
   "source": [
    "## Introduction\n",
    "\n",
    "This notebook is a dashboard publication tool via Jupyter-Voila. It is developed based on this [tutorial](https://github.com/voila-dashboards/voila-heroku) by Martin Renou.\n",
    "\n",
    "This notebook is organized into modules to complete the following tasks:\n",
    "\n",
    "1. Data Analysis\n",
    "2. Data Visualization\n",
    "3. Dashboard Publication\n",
    "\n",
    "## VTA Open Data\n",
    "\n",
    "This dashboard visualizes cumulative monthly ridership from the VTA Open Data [Portal](http://data.vta.org/). The Portal is described as \"central location for access to VTA's open data, including transit, active transportation, congestion management and more.\"\n",
    "\n",
    "The [monthly ridership data](http://data.vta.org/datasets/ridership-by-route-cumulative-monthly) includes fields for train route, line type, ridership and cumulative monthly period. It consists of data from 2013 to 2018.\n"
   ]
  },
  {
   "cell_type": "code",
   "execution_count": 22,
   "metadata": {},
   "outputs": [],
   "source": [
    "# 01 - import modules and data\n",
    "# source: https://github.com/voila-dashboards/voila-heroku\n",
    "from bqplot import pyplot as plt\n",
    "import ipywidgets as widgets\n",
    "import numpy as np\n",
    "\n",
    "import pandas as pd\n",
    "df_total = pd.read_csv('../data/Ridership_by_Route_Cumulative_Monthly.csv')\n",
    "\n",
    "# generate some fake\n",
    "# n = 2000\n",
    "# x = np.linspace(0.0, 10.0, n)\n",
    "# np.random.seed(0)\n",
    "# y = np.cumsum(np.random.randn(n)*10).astype(int)\n",
    "\n",
    "# vta open data\n",
    "x = df_total['Routes']\n",
    "y = df_total['Boardings']"
   ]
  },
  {
   "cell_type": "code",
   "execution_count": 23,
   "metadata": {},
   "outputs": [],
   "source": [
    "# 02a - create histogram\n",
    "fig_hist = plt.figure(\n",
    "    title='VTA Train Boardings - Monthly Cumulative Total from 2005-2018'\n",
    ")\n",
    "hist = plt.hist(y, bins=25)\n",
    "\n",
    "# histogram bins\n",
    "hist.bins = 10;\n",
    "\n",
    "# create histogram slider\n",
    "slider = widgets.IntSlider(\n",
    "    description='Bins number',\n",
    "    min=1,\n",
    "    max=100,\n",
    "    v_model=30\n",
    ")\n"
   ]
  },
  {
   "cell_type": "code",
   "execution_count": 24,
   "metadata": {
    "scrolled": false
   },
   "outputs": [
    {
     "data": {
      "application/vnd.jupyter.widget-view+json": {
       "model_id": "4d46db13a4514fa58e54018cb35c675e",
       "version_major": 2,
       "version_minor": 0
      },
      "text/plain": [
       "GridspecLayout(children=(Figure(axes=[Axis(orientation='vertical', scale=LinearScale()), Axis(scale=LinearScal…"
      ]
     },
     "metadata": {},
     "output_type": "display_data"
    }
   ],
   "source": [
    "# 02b - create line chart and layout\n",
    "\n",
    "# vta data page layout\n",
    "widgets.link((hist, 'bins'), (slider, 'value'))\n",
    "\n",
    "# create line plot\n",
    "fig_lines = plt.figure( title='Line Chart')\n",
    "lines = plt.plot(x, y)\n",
    "\n",
    "# plot settings\n",
    "fig_lines.layout.width = 'auto'\n",
    "fig_lines.layout.height = 'auto'\n",
    "fig_hist.layout.width = 'auto'\n",
    "fig_hist.layout.height = 'auto'\n",
    "\n",
    "# page layout\n",
    "grid_layout = widgets.GridspecLayout(5, 3)\n",
    "\n",
    "# grid_layout[:2, :] = fig_lines\n",
    "grid_layout[2:4, :] = fig_hist\n",
    "grid_layout[4, 1] = slider\n",
    "\n",
    "# grid_layout[:2, :] = fig_lines\n",
    "# grid_layout[2:4, :] = fig_hist\n",
    "# grid_layout[4, 1] = slider\n",
    "\n",
    "grid_layout.layout.height = '1000px'\n",
    "grid_layout\n"
   ]
  },
  {
   "cell_type": "code",
   "execution_count": 25,
   "metadata": {},
   "outputs": [],
   "source": [
    "# 02c - create selector\n",
    "selector = plt.brush_int_selector()\n",
    "def update_range(*ignore):\n",
    "    if selector.selected is not None and len(selector.selected) == 2:\n",
    "        xmin, xmax = selector.selected\n",
    "        mask = (x > xmin) & (x < xmax)\n",
    "        hist.sample = y[mask]\n",
    "selector.observe(update_range, 'selected')\n"
   ]
  }
 ],
 "metadata": {
  "kernelspec": {
   "display_name": "Python 3",
   "language": "python",
   "name": "python3"
  },
  "language_info": {
   "codemirror_mode": {
    "name": "ipython",
    "version": 3
   },
   "file_extension": ".py",
   "mimetype": "text/x-python",
   "name": "python",
   "nbconvert_exporter": "python",
   "pygments_lexer": "ipython3",
   "version": "3.6.9"
  },
  "widgets": {
   "application/vnd.jupyter.widget-state+json": {
    "state": {},
    "version_major": 2,
    "version_minor": 0
   }
  }
 },
 "nbformat": 4,
 "nbformat_minor": 4
}
